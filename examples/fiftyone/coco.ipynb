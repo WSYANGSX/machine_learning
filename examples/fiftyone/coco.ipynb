{
 "cells": [
  {
   "cell_type": "code",
   "execution_count": 1,
   "id": "94bd1fb4",
   "metadata": {},
   "outputs": [],
   "source": [
    "import fiftyone as fo\n",
    "import fiftyone.zoo as foz"
   ]
  },
  {
   "cell_type": "code",
   "execution_count": 2,
   "id": "a16f9595",
   "metadata": {},
   "outputs": [
    {
     "name": "stdout",
     "output_type": "stream",
     "text": [
      "Downloading split 'train' to '/home/yangxf/fiftyone/coco-2017/train' if necessary\n",
      "Found annotations at '/home/yangxf/fiftyone/coco-2017/raw/instances_train2017.json'\n",
      "Images already downloaded\n",
      "Existing download of split 'train' is sufficient\n",
      "Downloading split 'validation' to '/home/yangxf/fiftyone/coco-2017/validation' if necessary\n",
      "Found annotations at '/home/yangxf/fiftyone/coco-2017/raw/instances_val2017.json'\n",
      "Images already downloaded\n",
      "Existing download of split 'validation' is sufficient\n",
      "Downloading split 'test' to '/home/yangxf/fiftyone/coco-2017/test' if necessary\n",
      "Found test info at '/home/yangxf/fiftyone/coco-2017/raw/image_info_test2017.json'\n",
      "Images already downloaded\n",
      "Existing download of split 'test' is sufficient\n",
      "Loading 'coco-2017' split 'train'\n",
      "   8% |/----------|  10047/118287 [19.8s elapsed, 3.5m remaining, 778.4 samples/s]   \n"
     ]
    },
    {
     "ename": "KeyboardInterrupt",
     "evalue": "",
     "output_type": "error",
     "traceback": [
      "\u001b[31m---------------------------------------------------------------------------\u001b[39m",
      "\u001b[31mKeyboardInterrupt\u001b[39m                         Traceback (most recent call last)",
      "\u001b[36mCell\u001b[39m\u001b[36m \u001b[39m\u001b[32mIn[2]\u001b[39m\u001b[32m, line 1\u001b[39m\n\u001b[32m----> \u001b[39m\u001b[32m1\u001b[39m coco_2017 = \u001b[43mfoz\u001b[49m\u001b[43m.\u001b[49m\u001b[43mload_zoo_dataset\u001b[49m\u001b[43m(\u001b[49m\u001b[33;43m\"\u001b[39;49m\u001b[33;43mcoco-2017\u001b[39;49m\u001b[33;43m\"\u001b[39;49m\u001b[43m)\u001b[49m\n",
      "\u001b[36mFile \u001b[39m\u001b[32m~/anaconda3/envs/ai/lib/python3.11/site-packages/fiftyone/zoo/datasets/__init__.py:448\u001b[39m, in \u001b[36mload_zoo_dataset\u001b[39m\u001b[34m(name_or_url, split, splits, label_field, dataset_name, download_if_necessary, drop_existing_dataset, persistent, overwrite, cleanup, progress, **kwargs)\u001b[39m\n\u001b[32m    444\u001b[39m \u001b[38;5;28;01mif\u001b[39;00m dataset_type \u001b[38;5;129;01mis\u001b[39;00m \u001b[38;5;129;01mnot\u001b[39;00m \u001b[38;5;28;01mNone\u001b[39;00m:\n\u001b[32m    445\u001b[39m     dataset_importer, _ = foud.build_dataset_importer(\n\u001b[32m    446\u001b[39m         dataset_type, dataset_dir=split_dir, **importer_kwargs\n\u001b[32m    447\u001b[39m     )\n\u001b[32m--> \u001b[39m\u001b[32m448\u001b[39m     \u001b[43mdataset\u001b[49m\u001b[43m.\u001b[49m\u001b[43madd_importer\u001b[49m\u001b[43m(\u001b[49m\n\u001b[32m    449\u001b[39m \u001b[43m        \u001b[49m\u001b[43mdataset_importer\u001b[49m\u001b[43m,\u001b[49m\n\u001b[32m    450\u001b[39m \u001b[43m        \u001b[49m\u001b[43mlabel_field\u001b[49m\u001b[43m=\u001b[49m\u001b[43mlabel_field\u001b[49m\u001b[43m,\u001b[49m\n\u001b[32m    451\u001b[39m \u001b[43m        \u001b[49m\u001b[43mtags\u001b[49m\u001b[43m=\u001b[49m\u001b[43m[\u001b[49m\u001b[43msplit\u001b[49m\u001b[43m]\u001b[49m\u001b[43m,\u001b[49m\n\u001b[32m    452\u001b[39m \u001b[43m        \u001b[49m\u001b[43mprogress\u001b[49m\u001b[43m=\u001b[49m\u001b[43mprogress\u001b[49m\u001b[43m,\u001b[49m\n\u001b[32m    453\u001b[39m \u001b[43m    \u001b[49m\u001b[43m)\u001b[49m\n\u001b[32m    454\u001b[39m \u001b[38;5;28;01melse\u001b[39;00m:\n\u001b[32m    455\u001b[39m     zoo_dataset._load_dataset(dataset, split_dir, split=split)\n",
      "\u001b[36mFile \u001b[39m\u001b[32m~/anaconda3/envs/ai/lib/python3.11/site-packages/fiftyone/core/dataset.py:6060\u001b[39m, in \u001b[36mDataset.add_importer\u001b[39m\u001b[34m(self, dataset_importer, label_field, tags, expand_schema, dynamic, add_info, generator, progress)\u001b[39m\n\u001b[32m   6008\u001b[39m \u001b[38;5;28;01mdef\u001b[39;00m\u001b[38;5;250m \u001b[39m\u001b[34madd_importer\u001b[39m(\n\u001b[32m   6009\u001b[39m     \u001b[38;5;28mself\u001b[39m,\n\u001b[32m   6010\u001b[39m     dataset_importer,\n\u001b[32m   (...)\u001b[39m\u001b[32m   6017\u001b[39m     progress=\u001b[38;5;28;01mNone\u001b[39;00m,\n\u001b[32m   6018\u001b[39m ):\n\u001b[32m   6019\u001b[39m \u001b[38;5;250m    \u001b[39m\u001b[33;03m\"\"\"Adds the samples from the given\u001b[39;00m\n\u001b[32m   6020\u001b[39m \u001b[33;03m    :class:`fiftyone.utils.data.importers.DatasetImporter` to the dataset.\u001b[39;00m\n\u001b[32m   6021\u001b[39m \n\u001b[32m   (...)\u001b[39m\u001b[32m   6058\u001b[39m \u001b[33;03m        a list of IDs of the samples that were added to the dataset\u001b[39;00m\n\u001b[32m   6059\u001b[39m \u001b[33;03m    \"\"\"\u001b[39;00m\n\u001b[32m-> \u001b[39m\u001b[32m6060\u001b[39m     \u001b[38;5;28;01mreturn\u001b[39;00m \u001b[43mfoud\u001b[49m\u001b[43m.\u001b[49m\u001b[43mimport_samples\u001b[49m\u001b[43m(\u001b[49m\n\u001b[32m   6061\u001b[39m \u001b[43m        \u001b[49m\u001b[38;5;28;43mself\u001b[39;49m\u001b[43m,\u001b[49m\n\u001b[32m   6062\u001b[39m \u001b[43m        \u001b[49m\u001b[43mdataset_importer\u001b[49m\u001b[43m,\u001b[49m\n\u001b[32m   6063\u001b[39m \u001b[43m        \u001b[49m\u001b[43mlabel_field\u001b[49m\u001b[43m=\u001b[49m\u001b[43mlabel_field\u001b[49m\u001b[43m,\u001b[49m\n\u001b[32m   6064\u001b[39m \u001b[43m        \u001b[49m\u001b[43mtags\u001b[49m\u001b[43m=\u001b[49m\u001b[43mtags\u001b[49m\u001b[43m,\u001b[49m\n\u001b[32m   6065\u001b[39m \u001b[43m        \u001b[49m\u001b[43mexpand_schema\u001b[49m\u001b[43m=\u001b[49m\u001b[43mexpand_schema\u001b[49m\u001b[43m,\u001b[49m\n\u001b[32m   6066\u001b[39m \u001b[43m        \u001b[49m\u001b[43mdynamic\u001b[49m\u001b[43m=\u001b[49m\u001b[43mdynamic\u001b[49m\u001b[43m,\u001b[49m\n\u001b[32m   6067\u001b[39m \u001b[43m        \u001b[49m\u001b[43madd_info\u001b[49m\u001b[43m=\u001b[49m\u001b[43madd_info\u001b[49m\u001b[43m,\u001b[49m\n\u001b[32m   6068\u001b[39m \u001b[43m        \u001b[49m\u001b[43mgenerator\u001b[49m\u001b[43m=\u001b[49m\u001b[43mgenerator\u001b[49m\u001b[43m,\u001b[49m\n\u001b[32m   6069\u001b[39m \u001b[43m        \u001b[49m\u001b[43mprogress\u001b[49m\u001b[43m=\u001b[49m\u001b[43mprogress\u001b[49m\u001b[43m,\u001b[49m\n\u001b[32m   6070\u001b[39m \u001b[43m    \u001b[49m\u001b[43m)\u001b[49m\n",
      "\u001b[36mFile \u001b[39m\u001b[32m~/anaconda3/envs/ai/lib/python3.11/site-packages/fiftyone/utils/data/importers.py:174\u001b[39m, in \u001b[36mimport_samples\u001b[39m\u001b[34m(dataset, dataset_importer, label_field, tags, expand_schema, dynamic, add_info, generator, progress)\u001b[39m\n\u001b[32m    171\u001b[39m     \u001b[38;5;28;01mreturn\u001b[39;00m _do_import_samples()\n\u001b[32m    173\u001b[39m sample_ids = []\n\u001b[32m--> \u001b[39m\u001b[32m174\u001b[39m \u001b[43m\u001b[49m\u001b[38;5;28;43;01mfor\u001b[39;49;00m\u001b[43m \u001b[49m\u001b[43mids\u001b[49m\u001b[43m \u001b[49m\u001b[38;5;129;43;01min\u001b[39;49;00m\u001b[43m \u001b[49m\u001b[43m_do_import_samples\u001b[49m\u001b[43m(\u001b[49m\u001b[43m)\u001b[49m\u001b[43m:\u001b[49m\n\u001b[32m    175\u001b[39m \u001b[43m    \u001b[49m\u001b[43msample_ids\u001b[49m\u001b[43m.\u001b[49m\u001b[43mextend\u001b[49m\u001b[43m(\u001b[49m\u001b[43mids\u001b[49m\u001b[43m)\u001b[49m\n\u001b[32m    177\u001b[39m \u001b[38;5;28;01mreturn\u001b[39;00m sample_ids\n",
      "\u001b[36mFile \u001b[39m\u001b[32m~/anaconda3/envs/ai/lib/python3.11/site-packages/fiftyone/utils/data/importers.py:152\u001b[39m, in \u001b[36mimport_samples.<locals>._do_import_samples\u001b[39m\u001b[34m()\u001b[39m\n\u001b[32m    149\u001b[39m \u001b[38;5;28;01melse\u001b[39;00m:\n\u001b[32m    150\u001b[39m     samples = \u001b[38;5;28mmap\u001b[39m(parse_sample, \u001b[38;5;28miter\u001b[39m(dataset_importer))\n\u001b[32m--> \u001b[39m\u001b[32m152\u001b[39m \u001b[43m\u001b[49m\u001b[38;5;28;43;01mfor\u001b[39;49;00m\u001b[43m \u001b[49m\u001b[43mids\u001b[49m\u001b[43m \u001b[49m\u001b[38;5;129;43;01min\u001b[39;49;00m\u001b[43m \u001b[49m\u001b[43mdataset\u001b[49m\u001b[43m.\u001b[49m\u001b[43madd_samples\u001b[49m\u001b[43m(\u001b[49m\n\u001b[32m    153\u001b[39m \u001b[43m    \u001b[49m\u001b[43msamples\u001b[49m\u001b[43m,\u001b[49m\n\u001b[32m    154\u001b[39m \u001b[43m    \u001b[49m\u001b[43mexpand_schema\u001b[49m\u001b[43m=\u001b[49m\u001b[43m_expand_schema\u001b[49m\u001b[43m,\u001b[49m\n\u001b[32m    155\u001b[39m \u001b[43m    \u001b[49m\u001b[43mdynamic\u001b[49m\u001b[43m=\u001b[49m\u001b[43m_dynamic\u001b[49m\u001b[43m,\u001b[49m\n\u001b[32m    156\u001b[39m \u001b[43m    \u001b[49m\u001b[43mgenerator\u001b[49m\u001b[43m=\u001b[49m\u001b[38;5;28;43;01mTrue\u001b[39;49;00m\u001b[43m,\u001b[49m\n\u001b[32m    157\u001b[39m \u001b[43m    \u001b[49m\u001b[43mprogress\u001b[49m\u001b[43m=\u001b[49m\u001b[43mprogress\u001b[49m\u001b[43m,\u001b[49m\n\u001b[32m    158\u001b[39m \u001b[43m    \u001b[49m\u001b[43mnum_samples\u001b[49m\u001b[43m=\u001b[49m\u001b[43mdataset_importer\u001b[49m\u001b[43m,\u001b[49m\n\u001b[32m    159\u001b[39m \u001b[43m\u001b[49m\u001b[43m)\u001b[49m\u001b[43m:\u001b[49m\n\u001b[32m    160\u001b[39m \u001b[43m    \u001b[49m\u001b[38;5;28;43;01myield\u001b[39;49;00m\u001b[43m \u001b[49m\u001b[43mids\u001b[49m\n\u001b[32m    162\u001b[39m \u001b[38;5;28;01mif\u001b[39;00m add_info \u001b[38;5;129;01mand\u001b[39;00m dataset_importer.has_dataset_info:\n",
      "\u001b[36mFile \u001b[39m\u001b[32m~/anaconda3/envs/ai/lib/python3.11/site-packages/fiftyone/core/dataset.py:3308\u001b[39m, in \u001b[36mDataset.add_samples.<locals>._do_add_samples\u001b[39m\u001b[34m()\u001b[39m\n\u001b[32m   3306\u001b[39m \u001b[38;5;28;01mdef\u001b[39;00m\u001b[38;5;250m \u001b[39m\u001b[34m_do_add_samples\u001b[39m():\n\u001b[32m   3307\u001b[39m     \u001b[38;5;28;01mwith\u001b[39;00m batcher:\n\u001b[32m-> \u001b[39m\u001b[32m3308\u001b[39m \u001b[43m        \u001b[49m\u001b[38;5;28;43;01mfor\u001b[39;49;00m\u001b[43m \u001b[49m\u001b[43mbatch\u001b[49m\u001b[43m \u001b[49m\u001b[38;5;129;43;01min\u001b[39;49;00m\u001b[43m \u001b[49m\u001b[43mbatcher\u001b[49m\u001b[43m:\u001b[49m\n\u001b[32m   3309\u001b[39m \u001b[43m            \u001b[49m\u001b[43mres\u001b[49m\u001b[43m,\u001b[49m\u001b[43m \u001b[49m\u001b[43mids\u001b[49m\u001b[43m \u001b[49m\u001b[43m=\u001b[49m\u001b[43m \u001b[49m\u001b[38;5;28;43mself\u001b[39;49m\u001b[43m.\u001b[49m\u001b[43m_add_samples_batch\u001b[49m\u001b[43m(\u001b[49m\u001b[43mbatch\u001b[49m\u001b[43m)\u001b[49m\n\u001b[32m   3310\u001b[39m \u001b[43m            \u001b[49m\u001b[38;5;28;43;01mif\u001b[39;49;00m\u001b[43m \u001b[49m\u001b[38;5;28;43mhasattr\u001b[39;49m\u001b[43m(\u001b[49m\u001b[43mres\u001b[49m\u001b[43m,\u001b[49m\u001b[43m \u001b[49m\u001b[33;43m\"\u001b[39;49m\u001b[33;43mnBytes\u001b[39;49m\u001b[33;43m\"\u001b[39;49m\u001b[43m)\u001b[49m\u001b[43m \u001b[49m\u001b[38;5;129;43;01mand\u001b[39;49;00m\u001b[43m \u001b[49m\u001b[38;5;28;43mhasattr\u001b[39;49m\u001b[43m(\u001b[49m\n\u001b[32m   3311\u001b[39m \u001b[43m                \u001b[49m\u001b[43mbatcher\u001b[49m\u001b[43m,\u001b[49m\u001b[43m \u001b[49m\u001b[33;43m\"\u001b[39;49m\u001b[33;43mset_encoding_ratio\u001b[39;49m\u001b[33;43m\"\u001b[39;49m\n\u001b[32m   3312\u001b[39m \u001b[43m            \u001b[49m\u001b[43m)\u001b[49m\u001b[43m:\u001b[49m\n",
      "\u001b[36mFile \u001b[39m\u001b[32m~/anaconda3/envs/ai/lib/python3.11/site-packages/fiftyone/core/utils.py:1213\u001b[39m, in \u001b[36mBaseChunkyBatcher.__next__\u001b[39m\u001b[34m(self)\u001b[39m\n\u001b[32m   1211\u001b[39m \u001b[38;5;28;01mtry\u001b[39;00m:\n\u001b[32m   1212\u001b[39m     \u001b[38;5;28;01mwhile\u001b[39;00m idx < batch_size \u001b[38;5;129;01mor\u001b[39;00m batch_size < \u001b[32m0\u001b[39m:\n\u001b[32m-> \u001b[39m\u001b[32m1213\u001b[39m         batch.append(\u001b[38;5;28mnext\u001b[39m(\u001b[38;5;28mself\u001b[39m._iter))\n\u001b[32m   1214\u001b[39m         idx += \u001b[32m1\u001b[39m\n\u001b[32m   1215\u001b[39m \u001b[38;5;28;01mexcept\u001b[39;00m \u001b[38;5;167;01mStopIteration\u001b[39;00m:\n",
      "\u001b[36mFile \u001b[39m\u001b[32m~/anaconda3/envs/ai/lib/python3.11/site-packages/fiftyone/utils/coco.py:476\u001b[39m, in \u001b[36mCOCODetectionDatasetImporter.__next__\u001b[39m\u001b[34m(self)\u001b[39m\n\u001b[32m    471\u001b[39m     coco_objects = _get_matching_objects(\n\u001b[32m    472\u001b[39m         coco_objects, \u001b[38;5;28mself\u001b[39m._class_ids\n\u001b[32m    473\u001b[39m     )\n\u001b[32m    475\u001b[39m \u001b[38;5;28;01mif\u001b[39;00m \u001b[33m\"\u001b[39m\u001b[33mdetections\u001b[39m\u001b[33m\"\u001b[39m \u001b[38;5;129;01min\u001b[39;00m \u001b[38;5;28mself\u001b[39m._label_types:\n\u001b[32m--> \u001b[39m\u001b[32m476\u001b[39m     detections = \u001b[43m_coco_objects_to_detections\u001b[49m\u001b[43m(\u001b[49m\n\u001b[32m    477\u001b[39m \u001b[43m        \u001b[49m\u001b[43mcoco_objects\u001b[49m\u001b[43m,\u001b[49m\n\u001b[32m    478\u001b[39m \u001b[43m        \u001b[49m\u001b[43mframe_size\u001b[49m\u001b[43m,\u001b[49m\n\u001b[32m    479\u001b[39m \u001b[43m        \u001b[49m\u001b[38;5;28;43mself\u001b[39;49m\u001b[43m.\u001b[49m\u001b[43m_classes_map\u001b[49m\u001b[43m,\u001b[49m\n\u001b[32m    480\u001b[39m \u001b[43m        \u001b[49m\u001b[38;5;28;43mself\u001b[39;49m\u001b[43m.\u001b[49m\u001b[43m_supercategory_map\u001b[49m\u001b[43m,\u001b[49m\n\u001b[32m    481\u001b[39m \u001b[43m        \u001b[49m\u001b[38;5;28;43;01mFalse\u001b[39;49;00m\u001b[43m,\u001b[49m\u001b[43m  \u001b[49m\u001b[38;5;66;43;03m# no segmentations\u001b[39;49;00m\n\u001b[32m    482\u001b[39m \u001b[43m        \u001b[49m\u001b[38;5;28;43mself\u001b[39;49m\u001b[43m.\u001b[49m\u001b[43minclude_annotation_id\u001b[49m\u001b[43m,\u001b[49m\n\u001b[32m    483\u001b[39m \u001b[43m    \u001b[49m\u001b[43m)\u001b[49m\n\u001b[32m    484\u001b[39m     \u001b[38;5;28;01mif\u001b[39;00m detections \u001b[38;5;129;01mis\u001b[39;00m \u001b[38;5;129;01mnot\u001b[39;00m \u001b[38;5;28;01mNone\u001b[39;00m:\n\u001b[32m    485\u001b[39m         label[\u001b[33m\"\u001b[39m\u001b[33mdetections\u001b[39m\u001b[33m\"\u001b[39m] = detections\n",
      "\u001b[36mFile \u001b[39m\u001b[32m~/anaconda3/envs/ai/lib/python3.11/site-packages/fiftyone/utils/coco.py:2110\u001b[39m, in \u001b[36m_coco_objects_to_detections\u001b[39m\u001b[34m(coco_objects, frame_size, classes_map, supercategory_map, load_segmentations, include_id)\u001b[39m\n\u001b[32m   2108\u001b[39m detections = []\n\u001b[32m   2109\u001b[39m \u001b[38;5;28;01mfor\u001b[39;00m coco_obj \u001b[38;5;129;01min\u001b[39;00m coco_objects:\n\u001b[32m-> \u001b[39m\u001b[32m2110\u001b[39m     detection = \u001b[43mcoco_obj\u001b[49m\u001b[43m.\u001b[49m\u001b[43mto_detection\u001b[49m\u001b[43m(\u001b[49m\n\u001b[32m   2111\u001b[39m \u001b[43m        \u001b[49m\u001b[43mframe_size\u001b[49m\u001b[43m,\u001b[49m\n\u001b[32m   2112\u001b[39m \u001b[43m        \u001b[49m\u001b[43mclasses_map\u001b[49m\u001b[43m=\u001b[49m\u001b[43mclasses_map\u001b[49m\u001b[43m,\u001b[49m\n\u001b[32m   2113\u001b[39m \u001b[43m        \u001b[49m\u001b[43msupercategory_map\u001b[49m\u001b[43m=\u001b[49m\u001b[43msupercategory_map\u001b[49m\u001b[43m,\u001b[49m\n\u001b[32m   2114\u001b[39m \u001b[43m        \u001b[49m\u001b[43mload_segmentation\u001b[49m\u001b[43m=\u001b[49m\u001b[43mload_segmentations\u001b[49m\u001b[43m,\u001b[49m\n\u001b[32m   2115\u001b[39m \u001b[43m        \u001b[49m\u001b[43minclude_id\u001b[49m\u001b[43m=\u001b[49m\u001b[43minclude_id\u001b[49m\u001b[43m,\u001b[49m\n\u001b[32m   2116\u001b[39m \u001b[43m    \u001b[49m\u001b[43m)\u001b[49m\n\u001b[32m   2118\u001b[39m     \u001b[38;5;28;01mif\u001b[39;00m detection \u001b[38;5;129;01mis\u001b[39;00m \u001b[38;5;129;01mnot\u001b[39;00m \u001b[38;5;28;01mNone\u001b[39;00m \u001b[38;5;129;01mand\u001b[39;00m (\n\u001b[32m   2119\u001b[39m         \u001b[38;5;129;01mnot\u001b[39;00m load_segmentations \u001b[38;5;129;01mor\u001b[39;00m detection.has_mask\n\u001b[32m   2120\u001b[39m     ):\n\u001b[32m   2121\u001b[39m         detections.append(detection)\n",
      "\u001b[36mFile \u001b[39m\u001b[32m~/anaconda3/envs/ai/lib/python3.11/site-packages/fiftyone/utils/coco.py:1159\u001b[39m, in \u001b[36mCOCOObject.to_detection\u001b[39m\u001b[34m(self, frame_size, classes_map, supercategory_map, load_segmentation, include_id)\u001b[39m\n\u001b[32m   1156\u001b[39m \u001b[38;5;28;01melse\u001b[39;00m:\n\u001b[32m   1157\u001b[39m     mask = \u001b[38;5;28;01mNone\u001b[39;00m\n\u001b[32m-> \u001b[39m\u001b[32m1159\u001b[39m \u001b[38;5;28;01mreturn\u001b[39;00m \u001b[43mfol\u001b[49m\u001b[43m.\u001b[49m\u001b[43mDetection\u001b[49m\u001b[43m(\u001b[49m\n\u001b[32m   1160\u001b[39m \u001b[43m    \u001b[49m\u001b[43mlabel\u001b[49m\u001b[43m=\u001b[49m\u001b[43mlabel\u001b[49m\u001b[43m,\u001b[49m\n\u001b[32m   1161\u001b[39m \u001b[43m    \u001b[49m\u001b[43mbounding_box\u001b[49m\u001b[43m=\u001b[49m\u001b[43mbounding_box\u001b[49m\u001b[43m,\u001b[49m\n\u001b[32m   1162\u001b[39m \u001b[43m    \u001b[49m\u001b[43mmask\u001b[49m\u001b[43m=\u001b[49m\u001b[43mmask\u001b[49m\u001b[43m,\u001b[49m\n\u001b[32m   1163\u001b[39m \u001b[43m    \u001b[49m\u001b[43mconfidence\u001b[49m\u001b[43m=\u001b[49m\u001b[38;5;28;43mself\u001b[39;49m\u001b[43m.\u001b[49m\u001b[43mscore\u001b[49m\u001b[43m,\u001b[49m\n\u001b[32m   1164\u001b[39m \u001b[43m    \u001b[49m\u001b[43m*\u001b[49m\u001b[43m*\u001b[49m\u001b[43mattributes\u001b[49m\u001b[43m,\u001b[49m\n\u001b[32m   1165\u001b[39m \u001b[43m\u001b[49m\u001b[43m)\u001b[49m\n",
      "\u001b[36mFile \u001b[39m\u001b[32m~/anaconda3/envs/ai/lib/python3.11/site-packages/fiftyone/core/odm/embedded_document.py:56\u001b[39m, in \u001b[36mDynamicEmbeddedDocument.__init__\u001b[39m\u001b[34m(self, *args, **kwargs)\u001b[39m\n\u001b[32m     54\u001b[39m \u001b[38;5;28;01mdef\u001b[39;00m\u001b[38;5;250m \u001b[39m\u001b[34m__init__\u001b[39m(\u001b[38;5;28mself\u001b[39m, *args, **kwargs):\n\u001b[32m     55\u001b[39m     \u001b[38;5;28;01mtry\u001b[39;00m:\n\u001b[32m---> \u001b[39m\u001b[32m56\u001b[39m         \u001b[38;5;28;43msuper\u001b[39;49m\u001b[43m(\u001b[49m\u001b[43m)\u001b[49m\u001b[43m.\u001b[49m\u001b[34;43m__init__\u001b[39;49m\u001b[43m(\u001b[49m\u001b[43m*\u001b[49m\u001b[43margs\u001b[49m\u001b[43m,\u001b[49m\u001b[43m \u001b[49m\u001b[43m*\u001b[49m\u001b[43m*\u001b[49m\u001b[43mkwargs\u001b[49m\u001b[43m)\u001b[49m\n\u001b[32m     57\u001b[39m     \u001b[38;5;28;01mexcept\u001b[39;00m \u001b[38;5;167;01mAttributeError\u001b[39;00m \u001b[38;5;28;01mas\u001b[39;00m e:\n\u001b[32m     58\u001b[39m         \u001b[38;5;28mself\u001b[39m._raise_reserved_attribute_exception(e)\n",
      "\u001b[36mFile \u001b[39m\u001b[32m~/anaconda3/envs/ai/lib/python3.11/site-packages/mongoengine/document.py:90\u001b[39m, in \u001b[36mEmbeddedDocument.__init__\u001b[39m\u001b[34m(self, *args, **kwargs)\u001b[39m\n\u001b[32m     89\u001b[39m \u001b[38;5;28;01mdef\u001b[39;00m\u001b[38;5;250m \u001b[39m\u001b[34m__init__\u001b[39m(\u001b[38;5;28mself\u001b[39m, *args, **kwargs):\n\u001b[32m---> \u001b[39m\u001b[32m90\u001b[39m     \u001b[38;5;28;43msuper\u001b[39;49m\u001b[43m(\u001b[49m\u001b[43m)\u001b[49m\u001b[43m.\u001b[49m\u001b[34;43m__init__\u001b[39;49m\u001b[43m(\u001b[49m\u001b[43m*\u001b[49m\u001b[43margs\u001b[49m\u001b[43m,\u001b[49m\u001b[43m \u001b[49m\u001b[43m*\u001b[49m\u001b[43m*\u001b[49m\u001b[43mkwargs\u001b[49m\u001b[43m)\u001b[49m\n\u001b[32m     91\u001b[39m     \u001b[38;5;28mself\u001b[39m._instance = \u001b[38;5;28;01mNone\u001b[39;00m\n\u001b[32m     92\u001b[39m     \u001b[38;5;28mself\u001b[39m._changed_fields = []\n",
      "\u001b[36mFile \u001b[39m\u001b[32m~/anaconda3/envs/ai/lib/python3.11/site-packages/mongoengine/base/document.py:128\u001b[39m, in \u001b[36mBaseDocument.__init__\u001b[39m\u001b[34m(self, *args, **values)\u001b[39m\n\u001b[32m    126\u001b[39m         \u001b[38;5;28;01mif\u001b[39;00m field \u001b[38;5;129;01mand\u001b[39;00m \u001b[38;5;129;01mnot\u001b[39;00m \u001b[38;5;28misinstance\u001b[39m(field, FileField):\n\u001b[32m    127\u001b[39m             value = field.to_python(value)\n\u001b[32m--> \u001b[39m\u001b[32m128\u001b[39m     \u001b[38;5;28msetattr\u001b[39m(\u001b[38;5;28mself\u001b[39m, key, value)\n\u001b[32m    129\u001b[39m \u001b[38;5;28;01melse\u001b[39;00m:\n\u001b[32m    130\u001b[39m     \u001b[38;5;28;01mif\u001b[39;00m \u001b[38;5;28mself\u001b[39m._dynamic:\n",
      "\u001b[36mFile \u001b[39m\u001b[32m~/anaconda3/envs/ai/lib/python3.11/site-packages/fiftyone/core/odm/embedded_document.py:65\u001b[39m, in \u001b[36mDynamicEmbeddedDocument.__setattr__\u001b[39m\u001b[34m(self, name, value)\u001b[39m\n\u001b[32m     63\u001b[39m \u001b[38;5;28;01mdef\u001b[39;00m\u001b[38;5;250m \u001b[39m\u001b[34m__setattr__\u001b[39m(\u001b[38;5;28mself\u001b[39m, name, value):\n\u001b[32m     64\u001b[39m     \u001b[38;5;28;01mtry\u001b[39;00m:\n\u001b[32m---> \u001b[39m\u001b[32m65\u001b[39m         \u001b[38;5;28;43msuper\u001b[39;49m\u001b[43m(\u001b[49m\u001b[43m)\u001b[49m\u001b[43m.\u001b[49m\u001b[34;43m__setattr__\u001b[39;49m\u001b[43m(\u001b[49m\u001b[43mname\u001b[49m\u001b[43m,\u001b[49m\u001b[43m \u001b[49m\u001b[43mvalue\u001b[49m\u001b[43m)\u001b[49m\n\u001b[32m     66\u001b[39m     \u001b[38;5;28;01mexcept\u001b[39;00m \u001b[38;5;167;01mAttributeError\u001b[39;00m \u001b[38;5;28;01mas\u001b[39;00m e:\n\u001b[32m     67\u001b[39m         \u001b[38;5;28mself\u001b[39m._raise_reserved_attribute_exception(e)\n",
      "\u001b[36mFile \u001b[39m\u001b[32m~/anaconda3/envs/ai/lib/python3.11/site-packages/mongoengine/base/document.py:209\u001b[39m, in \u001b[36mBaseDocument.__setattr__\u001b[39m\u001b[34m(self, name, value)\u001b[39m\n\u001b[32m    199\u001b[39m \u001b[38;5;28;01mif\u001b[39;00m (\n\u001b[32m    200\u001b[39m     \u001b[38;5;28mself\u001b[39m._is_document\n\u001b[32m    201\u001b[39m     \u001b[38;5;129;01mand\u001b[39;00m self__initialised\n\u001b[32m   (...)\u001b[39m\u001b[32m    205\u001b[39m     \u001b[38;5;66;03m# When setting the ID field of an instance already instantiated and that was user-created (i.e not saved in db yet)\u001b[39;00m\n\u001b[32m    206\u001b[39m     \u001b[38;5;66;03m# Typically this is when calling .save()\u001b[39;00m\n\u001b[32m    207\u001b[39m     \u001b[38;5;28msuper\u001b[39m().\u001b[34m__setattr__\u001b[39m(\u001b[33m\"\u001b[39m\u001b[33m_created\u001b[39m\u001b[33m\"\u001b[39m, \u001b[38;5;28;01mFalse\u001b[39;00m)\n\u001b[32m--> \u001b[39m\u001b[32m209\u001b[39m \u001b[38;5;28;43msuper\u001b[39;49m\u001b[43m(\u001b[49m\u001b[43m)\u001b[49m\u001b[43m.\u001b[49m\u001b[34;43m__setattr__\u001b[39;49m\u001b[43m(\u001b[49m\u001b[43mname\u001b[49m\u001b[43m,\u001b[49m\u001b[43m \u001b[49m\u001b[43mvalue\u001b[49m\u001b[43m)\u001b[49m\n",
      "\u001b[31mKeyboardInterrupt\u001b[39m: "
     ]
    }
   ],
   "source": [
    "coco_2017 = foz.load_zoo_dataset(\"coco-2017\")"
   ]
  },
  {
   "cell_type": "code",
   "execution_count": 3,
   "id": "5a74c7f8",
   "metadata": {},
   "outputs": [
    {
     "name": "stdout",
     "output_type": "stream",
     "text": [
      "Session launched. Run `session.show()` to open the App in a cell output.\n"
     ]
    }
   ],
   "source": [
    "session = fo.launch_app(coco_2017, auto=False)"
   ]
  },
  {
   "cell_type": "code",
   "execution_count": 4,
   "id": "b482568d",
   "metadata": {},
   "outputs": [
    {
     "data": {
      "text/plain": [
       "Dataset:          coco-2017\n",
       "Media type:       image\n",
       "Num samples:      163957\n",
       "Selected samples: 0\n",
       "Selected labels:  0\n",
       "Session URL:      http://localhost:5151/"
      ]
     },
     "execution_count": 4,
     "metadata": {},
     "output_type": "execute_result"
    }
   ],
   "source": [
    "session"
   ]
  }
 ],
 "metadata": {
  "kernelspec": {
   "display_name": "ai",
   "language": "python",
   "name": "python3"
  },
  "language_info": {
   "codemirror_mode": {
    "name": "ipython",
    "version": 3
   },
   "file_extension": ".py",
   "mimetype": "text/x-python",
   "name": "python",
   "nbconvert_exporter": "python",
   "pygments_lexer": "ipython3",
   "version": "3.11.11"
  }
 },
 "nbformat": 4,
 "nbformat_minor": 5
}
