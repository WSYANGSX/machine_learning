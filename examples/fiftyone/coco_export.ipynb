{
 "cells": [
  {
   "cell_type": "code",
   "execution_count": 1,
   "id": "8d8d884a",
   "metadata": {},
   "outputs": [],
   "source": [
    "import fiftyone as fo\n",
    "import fiftyone.zoo as foz"
   ]
  },
  {
   "cell_type": "code",
   "execution_count": 2,
   "id": "4d4a504d",
   "metadata": {},
   "outputs": [
    {
     "name": "stdout",
     "output_type": "stream",
     "text": [
      "Downloading split 'train' to '/home/yangxf/fiftyone/coco-2017/train' if necessary\n",
      "Found annotations at '/home/yangxf/fiftyone/coco-2017/raw/instances_train2017.json'\n",
      "Images already downloaded\n",
      "Existing download of split 'train' is sufficient\n",
      "Downloading split 'validation' to '/home/yangxf/fiftyone/coco-2017/validation' if necessary\n",
      "Found annotations at '/home/yangxf/fiftyone/coco-2017/raw/instances_val2017.json'\n",
      "Images already downloaded\n",
      "Existing download of split 'validation' is sufficient\n",
      "Downloading split 'test' to '/home/yangxf/fiftyone/coco-2017/test' if necessary\n",
      "Found test info at '/home/yangxf/fiftyone/coco-2017/raw/image_info_test2017.json'\n",
      "Images already downloaded\n",
      "Existing download of split 'test' is sufficient\n",
      "Loading existing dataset 'coco-2017'. To reload from disk, either delete the existing dataset or provide a custom `dataset_name` to use\n"
     ]
    }
   ],
   "source": [
    "coco_2017 = foz.load_zoo_dataset(\"coco-2017\")"
   ]
  },
  {
   "cell_type": "code",
   "execution_count": 3,
   "id": "30913915",
   "metadata": {},
   "outputs": [
    {
     "name": "stdout",
     "output_type": "stream",
     "text": [
      "Session launched. Run `session.show()` to open the App in a cell output.\n"
     ]
    }
   ],
   "source": [
    "session = fo.launch_app(coco_2017, auto=False)"
   ]
  },
  {
   "cell_type": "code",
   "execution_count": 4,
   "id": "a74e002f",
   "metadata": {},
   "outputs": [
    {
     "data": {
      "text/plain": [
       "Dataset:          coco-2017\n",
       "Media type:       image\n",
       "Num samples:      163957\n",
       "Selected samples: 0\n",
       "Selected labels:  0\n",
       "Session URL:      http://localhost:5151/"
      ]
     },
     "execution_count": 4,
     "metadata": {},
     "output_type": "execute_result"
    }
   ],
   "source": [
    "session"
   ]
  },
  {
   "cell_type": "code",
   "execution_count": 7,
   "id": "703e5482",
   "metadata": {},
   "outputs": [],
   "source": [
    "coco_2017.compute_metadata()"
   ]
  },
  {
   "cell_type": "code",
   "execution_count": 26,
   "id": "4919d3b9",
   "metadata": {},
   "outputs": [
    {
     "data": {
      "text/plain": [
       "<Sample: {\n",
       "    'id': '681b6a6cb646a0921548744b',\n",
       "    'media_type': 'image',\n",
       "    'filepath': '/home/yangxf/fiftyone/coco-2017/train/data/000000000009.jpg',\n",
       "    'tags': ['train'],\n",
       "    'metadata': <ImageMetadata: {\n",
       "        'size_bytes': None,\n",
       "        'mime_type': None,\n",
       "        'width': 640,\n",
       "        'height': 480,\n",
       "        'num_channels': None,\n",
       "    }>,\n",
       "    'created_at': datetime.datetime(2025, 5, 7, 14, 13, 0, 862000),\n",
       "    'last_modified_at': datetime.datetime(2025, 5, 7, 14, 13, 0, 862000),\n",
       "    'ground_truth': <Detections: {\n",
       "        'detections': [\n",
       "            <Detection: {\n",
       "                'id': '681b6a6cb646a09215487443',\n",
       "                'attributes': {},\n",
       "                'tags': [],\n",
       "                'label': 'bowl',\n",
       "                'bounding_box': [\n",
       "                    0.0016875000000000002,\n",
       "                    0.3910208333333333,\n",
       "                    0.9556093750000001,\n",
       "                    0.5954999999999999,\n",
       "                ],\n",
       "                'mask': None,\n",
       "                'mask_path': None,\n",
       "                'confidence': None,\n",
       "                'index': None,\n",
       "                'supercategory': 'kitchen',\n",
       "                'iscrowd': 0,\n",
       "            }>,\n",
       "            <Detection: {\n",
       "                'id': '681b6a6cb646a09215487444',\n",
       "                'attributes': {},\n",
       "                'tags': [],\n",
       "                'label': 'bowl',\n",
       "                'bounding_box': [\n",
       "                    0.48707812500000003,\n",
       "                    0.008979166666666667,\n",
       "                    0.49887499999999996,\n",
       "                    0.47641666666666665,\n",
       "                ],\n",
       "                'mask': None,\n",
       "                'mask_path': None,\n",
       "                'confidence': None,\n",
       "                'index': None,\n",
       "                'supercategory': 'kitchen',\n",
       "                'iscrowd': 0,\n",
       "            }>,\n",
       "            <Detection: {\n",
       "                'id': '681b6a6cb646a09215487445',\n",
       "                'attributes': {},\n",
       "                'tags': [],\n",
       "                'label': 'broccoli',\n",
       "                'bounding_box': [\n",
       "                    0.39,\n",
       "                    0.4776458333333334,\n",
       "                    0.49412500000000004,\n",
       "                    0.5105833333333334,\n",
       "                ],\n",
       "                'mask': None,\n",
       "                'mask_path': None,\n",
       "                'confidence': None,\n",
       "                'index': None,\n",
       "                'supercategory': 'food',\n",
       "                'iscrowd': 0,\n",
       "            }>,\n",
       "            <Detection: {\n",
       "                'id': '681b6a6cb646a09215487446',\n",
       "                'attributes': {},\n",
       "                'tags': [],\n",
       "                'label': 'bowl',\n",
       "                'bounding_box': [0.0, 0.02814583333333333, 0.678875, 0.7815],\n",
       "                'mask': None,\n",
       "                'mask_path': None,\n",
       "                'confidence': None,\n",
       "                'index': None,\n",
       "                'supercategory': 'kitchen',\n",
       "                'iscrowd': 0,\n",
       "            }>,\n",
       "            <Detection: {\n",
       "                'id': '681b6a6cb646a09215487447',\n",
       "                'attributes': {},\n",
       "                'tags': [],\n",
       "                'label': 'orange',\n",
       "                'bounding_box': [0.5878125, 0.08408333333333333, 0.118046875, 0.0969375],\n",
       "                'mask': None,\n",
       "                'mask_path': None,\n",
       "                'confidence': None,\n",
       "                'index': None,\n",
       "                'supercategory': 'food',\n",
       "                'iscrowd': 0,\n",
       "            }>,\n",
       "            <Detection: {\n",
       "                'id': '681b6a6cb646a09215487448',\n",
       "                'attributes': {},\n",
       "                'tags': [],\n",
       "                'label': 'orange',\n",
       "                'bounding_box': [\n",
       "                    0.7277812499999999,\n",
       "                    0.0811875,\n",
       "                    0.090734375,\n",
       "                    0.09722916666666667,\n",
       "                ],\n",
       "                'mask': None,\n",
       "                'mask_path': None,\n",
       "                'confidence': None,\n",
       "                'index': None,\n",
       "                'supercategory': 'food',\n",
       "                'iscrowd': 0,\n",
       "            }>,\n",
       "            <Detection: {\n",
       "                'id': '681b6a6cb646a09215487449',\n",
       "                'attributes': {},\n",
       "                'tags': [],\n",
       "                'label': 'orange',\n",
       "                'bounding_box': [\n",
       "                    0.60265625,\n",
       "                    0.15345833333333334,\n",
       "                    0.13128125,\n",
       "                    0.14689583333333334,\n",
       "                ],\n",
       "                'mask': None,\n",
       "                'mask_path': None,\n",
       "                'confidence': None,\n",
       "                'index': None,\n",
       "                'supercategory': 'food',\n",
       "                'iscrowd': 0,\n",
       "            }>,\n",
       "            <Detection: {\n",
       "                'id': '681b6a6cb646a0921548744a',\n",
       "                'attributes': {},\n",
       "                'tags': [],\n",
       "                'label': 'orange',\n",
       "                'bounding_box': [0.568828125, 0.0051875, 0.1480625, 0.14806249999999999],\n",
       "                'mask': None,\n",
       "                'mask_path': None,\n",
       "                'confidence': None,\n",
       "                'index': None,\n",
       "                'supercategory': 'food',\n",
       "                'iscrowd': 0,\n",
       "            }>,\n",
       "        ],\n",
       "    }>,\n",
       "}>"
      ]
     },
     "execution_count": 26,
     "metadata": {},
     "output_type": "execute_result"
    }
   ],
   "source": [
    "coco_2017.first()"
   ]
  },
  {
   "cell_type": "code",
   "execution_count": 4,
   "id": "84317681",
   "metadata": {},
   "outputs": [],
   "source": [
    "from fiftyone import ViewField as VF\n",
    "train_subset  = coco_2017.match(VF(\"tags\").contains(\"train\"))"
   ]
  },
  {
   "cell_type": "code",
   "execution_count": 30,
   "id": "93c4be16",
   "metadata": {},
   "outputs": [
    {
     "name": "stdout",
     "output_type": "stream",
     "text": [
      " 100% |███████████| 118287/118287 [38.2m elapsed, 0s remaining, 21.5 samples/s]       \n"
     ]
    }
   ],
   "source": [
    "train_subset.export(\n",
    "    \"/home/yangxf/WorkSpace/machine_learning/data/coco-2017/images/train\",\n",
    "    dataset_type=fo.types.YOLOv4Dataset,\n",
    "    label_field=\"ground_truth\",\n",
    "    classes=train_subset.default_classes,  # 使用所有类别\n",
    ")"
   ]
  },
  {
   "cell_type": "code",
   "execution_count": 31,
   "id": "2972140a",
   "metadata": {},
   "outputs": [],
   "source": [
    "test_subset = coco_2017.match(VF(\"tags\").contains(\"test\"))"
   ]
  },
  {
   "cell_type": "code",
   "execution_count": 32,
   "id": "c4a0aab1",
   "metadata": {},
   "outputs": [
    {
     "name": "stdout",
     "output_type": "stream",
     "text": [
      " 100% |█████████████| 40670/40670 [4.7m elapsed, 0s remaining, 54.5 samples/s]       \n"
     ]
    }
   ],
   "source": [
    "test_subset.export(\n",
    "    \"/home/yangxf/WorkSpace/machine_learning/data/coco-2017/images/test\",\n",
    "    dataset_type=fo.types.YOLOv4Dataset,\n",
    "    label_field=\"ground_truth\",\n",
    "    classes=train_subset.default_classes,  # 使用所有类别\n",
    ")"
   ]
  },
  {
   "cell_type": "code",
   "execution_count": 5,
   "id": "8e678007",
   "metadata": {},
   "outputs": [],
   "source": [
    "val_subset = coco_2017.match(VF(\"tags\").contains(\"validation\"))"
   ]
  },
  {
   "cell_type": "code",
   "execution_count": 6,
   "id": "52aeab83",
   "metadata": {},
   "outputs": [
    {
     "name": "stdout",
     "output_type": "stream",
     "text": [
      " 100% |███████████████| 5000/5000 [6.8s elapsed, 0s remaining, 579.4 samples/s]       \n"
     ]
    }
   ],
   "source": [
    "val_subset.export(\n",
    "    \"/home/yangxf/WorkSpace/machine_learning/data/coco/images/validation\",\n",
    "    dataset_type=fo.types.YOLOv4Dataset,\n",
    "    label_field=\"ground_truth\",\n",
    "    classes=train_subset.default_classes,  # 使用所有类别\n",
    ")\n"
   ]
  }
 ],
 "metadata": {
  "kernelspec": {
   "display_name": "ai",
   "language": "python",
   "name": "python3"
  },
  "language_info": {
   "codemirror_mode": {
    "name": "ipython",
    "version": 3
   },
   "file_extension": ".py",
   "mimetype": "text/x-python",
   "name": "python",
   "nbconvert_exporter": "python",
   "pygments_lexer": "ipython3",
   "version": "3.11.11"
  }
 },
 "nbformat": 4,
 "nbformat_minor": 5
}
