{
 "cells": [
  {
   "cell_type": "code",
   "execution_count": 3,
   "id": "8d8d884a",
   "metadata": {},
   "outputs": [],
   "source": [
    "import fiftyone as fo\n",
    "import fiftyone.zoo as foz"
   ]
  },
  {
   "cell_type": "code",
   "execution_count": null,
   "id": "4d4a504d",
   "metadata": {},
   "outputs": [
    {
     "name": "stdout",
     "output_type": "stream",
     "text": [
      "Downloading split 'train' to '/home/yangxf/fiftyone/coco-2017/train' if necessary\n",
      "Downloading annotations to '/home/yangxf/fiftyone/coco-2017/tmp-download/annotations_trainval2017.zip'\n",
      " 100% |██████|    1.9Gb/1.9Gb [38.0s elapsed, 0s remaining, 63.2Mb/s]       \n",
      "Extracting annotations to '/home/yangxf/fiftyone/coco-2017/raw/instances_train2017.json'\n",
      "Downloading images to '/home/yangxf/fiftyone/coco-2017/tmp-download/train2017.zip'\n"
     ]
    }
   ],
   "source": [
    "foz.load_zoo_dataset(\"coco-2017\")"
   ]
  }
 ],
 "metadata": {
  "kernelspec": {
   "display_name": "ai",
   "language": "python",
   "name": "python3"
  },
  "language_info": {
   "codemirror_mode": {
    "name": "ipython",
    "version": 3
   },
   "file_extension": ".py",
   "mimetype": "text/x-python",
   "name": "python",
   "nbconvert_exporter": "python",
   "pygments_lexer": "ipython3",
   "version": "3.11.11"
  }
 },
 "nbformat": 4,
 "nbformat_minor": 5
}
