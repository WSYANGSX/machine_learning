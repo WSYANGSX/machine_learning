{
 "cells": [
  {
   "cell_type": "code",
   "execution_count": 3,
   "id": "8d8d884a",
   "metadata": {},
   "outputs": [],
   "source": [
    "import fiftyone as fo\n",
    "import fiftyone.zoo as foz"
   ]
  },
  {
   "cell_type": "code",
   "execution_count": 4,
   "id": "4d4a504d",
   "metadata": {},
   "outputs": [
    {
     "name": "stdout",
     "output_type": "stream",
     "text": [
      "Downloading split 'train' to '/home/yangxf/fiftyone/coco-2017/train' if necessary\n",
      "Downloading annotations to '/home/yangxf/fiftyone/coco-2017/tmp-download/annotations_trainval2017.zip'\n",
      " 100% |██████|    1.9Gb/1.9Gb [38.0s elapsed, 0s remaining, 63.2Mb/s]       \n",
      "Extracting annotations to '/home/yangxf/fiftyone/coco-2017/raw/instances_train2017.json'\n",
      "Downloading images to '/home/yangxf/fiftyone/coco-2017/tmp-download/train2017.zip'\n",
      " 100% |████|  144.1Gb/144.1Gb [37.8m elapsed, 0s remaining, 75.6Mb/s]      \n",
      "Extracting images to '/home/yangxf/fiftyone/coco-2017/train/data'\n",
      "Writing annotations to '/home/yangxf/fiftyone/coco-2017/train/labels.json'\n",
      "Downloading split 'validation' to '/home/yangxf/fiftyone/coco-2017/validation' if necessary\n",
      "Found annotations at '/home/yangxf/fiftyone/coco-2017/raw/instances_val2017.json'\n",
      "Downloading images to '/home/yangxf/fiftyone/coco-2017/tmp-download/val2017.zip'\n",
      " 100% |██████|    6.1Gb/6.1Gb [1.7m elapsed, 0s remaining, 93.8Mb/s]       \n",
      "Extracting images to '/home/yangxf/fiftyone/coco-2017/validation/data'\n",
      "Writing annotations to '/home/yangxf/fiftyone/coco-2017/validation/labels.json'\n",
      "Downloading split 'test' to '/home/yangxf/fiftyone/coco-2017/test' if necessary\n",
      "Downloading test info to '/home/yangxf/fiftyone/coco-2017/tmp-download/image_info_test2017.zip'\n",
      " 100% |██████|    8.7Mb/8.7Mb [1.6s elapsed, 0s remaining, 5.4Mb/s]        \n",
      "Extracting test info to '/home/yangxf/fiftyone/coco-2017/raw/image_info_test2017.json'\n",
      "Downloading images to '/home/yangxf/fiftyone/coco-2017/tmp-download/test2017.zip'\n",
      " 100% |█████|   49.5Gb/49.5Gb [13.2m elapsed, 0s remaining, 91.2Mb/s]       \n",
      "Extracting images to '/home/yangxf/fiftyone/coco-2017/test/data'\n",
      "Writing annotations to '/home/yangxf/fiftyone/coco-2017/test/labels.json'\n",
      "Dataset info written to '/home/yangxf/fiftyone/coco-2017/info.json'\n",
      "Loading 'coco-2017' split 'train'\n",
      " 100% |███████████| 118287/118287 [4.4m elapsed, 0s remaining, 664.9 samples/s]      \n",
      "Loading 'coco-2017' split 'validation'\n",
      " 100% |███████████████| 5000/5000 [9.3s elapsed, 0s remaining, 529.5 samples/s]       \n",
      "Loading 'coco-2017' split 'test'\n",
      " 100% |█████████████| 40670/40670 [4.8s elapsed, 0s remaining, 8.6K samples/s]      \n",
      "Dataset 'coco-2017' created\n"
     ]
    },
    {
     "data": {
      "text/plain": [
       "Name:        coco-2017\n",
       "Media type:  image\n",
       "Num samples: 163957\n",
       "Persistent:  False\n",
       "Tags:        []\n",
       "Sample fields:\n",
       "    id:               fiftyone.core.fields.ObjectIdField\n",
       "    filepath:         fiftyone.core.fields.StringField\n",
       "    tags:             fiftyone.core.fields.ListField(fiftyone.core.fields.StringField)\n",
       "    metadata:         fiftyone.core.fields.EmbeddedDocumentField(fiftyone.core.metadata.ImageMetadata)\n",
       "    created_at:       fiftyone.core.fields.DateTimeField\n",
       "    last_modified_at: fiftyone.core.fields.DateTimeField\n",
       "    ground_truth:     fiftyone.core.fields.EmbeddedDocumentField(fiftyone.core.labels.Detections)"
      ]
     },
     "execution_count": 4,
     "metadata": {},
     "output_type": "execute_result"
    }
   ],
   "source": [
    "foz.load_zoo_dataset(\"coco-2017\")"
   ]
  }
 ],
 "metadata": {
  "kernelspec": {
   "display_name": "ai",
   "language": "python",
   "name": "python3"
  },
  "language_info": {
   "codemirror_mode": {
    "name": "ipython",
    "version": 3
   },
   "file_extension": ".py",
   "mimetype": "text/x-python",
   "name": "python",
   "nbconvert_exporter": "python",
   "pygments_lexer": "ipython3",
   "version": "3.11.11"
  }
 },
 "nbformat": 4,
 "nbformat_minor": 5
}
